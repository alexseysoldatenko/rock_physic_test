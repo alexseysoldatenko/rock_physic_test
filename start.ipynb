{
 "cells": [
  {
   "cell_type": "code",
   "execution_count": 1,
   "metadata": {},
   "outputs": [],
   "source": [
    "import numpy\n",
    "import matplotlib.pyplot as plt\n",
    "import json\n",
    "import utils\n",
    "from numba import njit"
   ]
  },
  {
   "cell_type": "markdown",
   "metadata": {},
   "source": [
    "# Params"
   ]
  },
  {
   "cell_type": "code",
   "execution_count": 2,
   "metadata": {},
   "outputs": [],
   "source": [
    "params = {\n",
    "            'type':'all',\n",
    "            'component':[0,0,1,2],\n",
    "            'limits_tetha':[[0,3.14,0.002]],\n",
    "            'limits_phi':[[0,1.5,0.001],[1.5,1.64,0.0001],[1.64, 4.64, 0.001], [4.64,4.78, 0.0001],[4.78, 6.28, 0.001]],\n",
    "            \n",
    "            \"type_add_tensor_matrix\": \"isotropic\",\n",
    "            \"k_matrix\": 45,\n",
    "            \"mu_matrix\": 20,\n",
    "            \"a1_matrix\": 1,\n",
    "            \"a2_matrix\": 1,\n",
    "            \"a3_matrix\": 1,\n",
    "    \n",
    "            \"type_add_tensor_inclusion\": \"isotropic\",\n",
    "            \"a1_inclusion\": 1000,\n",
    "            \"a2_inclusion\": 1000,\n",
    "            \"a3_inclusion\": 1,\n",
    "            \"concentration\" : 0.004,\n",
    "            \"k_inclusion\": 10,\n",
    "            \"mu_inclusion\": 0,\n",
    "            \"eulerian_angles\":[[0,0,0],[0,0,0]],\n",
    "            \"f\" : 0.8\n",
    "}"
   ]
  },
  {
   "cell_type": "code",
   "execution_count": 3,
   "metadata": {},
   "outputs": [],
   "source": [
    "params['Cklmn_matrix'] = utils.calculate_Cklmn_from_k_mu(params['k_matrix'], params['mu_matrix'])\n",
    "params['Crlmn_inculation'] = utils.calculate_Cklmn_from_k_mu(params['k_inclusion'], params['mu_inclusion'])"
   ]
  },
  {
   "cell_type": "code",
   "execution_count": 5,
   "metadata": {},
   "outputs": [],
   "source": [
    "params = utils.get_axes(params)"
   ]
  },
  {
   "cell_type": "code",
   "execution_count": 8,
   "metadata": {},
   "outputs": [],
   "source": [
    "def get_value(x, y, rock, k, m, l, n):    \n",
    "    linv = utils.LYAMBDA(rock.Cc, x, y, rock.inclusions[0].a1, rock.inclusions[0].a2, rock.inclusions[0].a3)\n",
    "    folder_path = 'C:\\\\Users\\\\alexsey\\\\Desktop\\\\проекты\\\\диплом тесты\\\\'\n",
    "    full_path = folder_path + f\"{x},{y},{k},{m},{l},{n}\"\n",
    "    return  linv[k, l] * utils.calculate_Nmn(tetta = x, phi = y, a1 = rock.inclusions[0].a1, a2 = rock.inclusions[0].a2, a3 = rock.inclusions[0].a3, n = n, m = m)*np.sin(x)\n"
   ]
  },
  {
   "cell_type": "code",
   "execution_count": 9,
   "metadata": {},
   "outputs": [],
   "source": [
    "func = get_value"
   ]
  },
  {
   "cell_type": "code",
   "execution_count": 7,
   "metadata": {},
   "outputs": [
    {
     "data": {
      "text/plain": [
       "(1571,)"
      ]
     },
     "execution_count": 7,
     "metadata": {},
     "output_type": "execute_result"
    }
   ],
   "source": [
    "params = utils.get_array"
   ]
  },
  {
   "cell_type": "code",
   "execution_count": null,
   "metadata": {},
   "outputs": [],
   "source": []
  }
 ],
 "metadata": {
  "kernelspec": {
   "display_name": "base",
   "language": "python",
   "name": "python3"
  },
  "language_info": {
   "codemirror_mode": {
    "name": "ipython",
    "version": 3
   },
   "file_extension": ".py",
   "mimetype": "text/x-python",
   "name": "python",
   "nbconvert_exporter": "python",
   "pygments_lexer": "ipython3",
   "version": "3.10.9"
  },
  "orig_nbformat": 4
 },
 "nbformat": 4,
 "nbformat_minor": 2
}
